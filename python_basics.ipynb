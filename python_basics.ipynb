{
  "nbformat": 4,
  "nbformat_minor": 0,
  "metadata": {
    "colab": {
      "provenance": []
    },
    "kernelspec": {
      "name": "python3",
      "display_name": "Python 3"
    },
    "language_info": {
      "name": "python"
    }
  },
  "cells": [
    {
      "cell_type": "code",
      "execution_count": null,
      "metadata": {
        "id": "37GQ0CJ1qZPk"
      },
      "outputs": [],
      "source": []
    },
    {
      "cell_type": "markdown",
      "source": [
        "Q1. What is Python, and why is it popular?\n",
        "- Python is a high-level, interpreted programming language known for its readability and versatility. It’s\n",
        "popular because of its simple syntax, large community, extensive libraries, and wide applicability, including\n",
        "web development, data analysis, AI, and more.\n",
        "\n",
        "\n",
        "Q2. What is an interpreter in Python?\n",
        "- An interpreter is a program that executes Python code line-by-line, allowing you to run scripts interactively.\n",
        "This makes it easier to debug and develop code quickly.\n",
        "\n",
        "\n",
        "Q3. What are pre-defined keywords in Python?\n",
        "- Pre-defined keywords in Python are reserved words that have a specific meaning and purpose within the\n",
        "language. Examples include if, else, for, while, True, and False.\n",
        "\n",
        "\n",
        "Q4. Can keywords be used as variable names?\n",
        "- No, keywords cannot be used as variable names as they are reserved by Python for specific functionalities.\n",
        "\n",
        "\n",
        "Q5. What is mutability in Python?\n",
        "- Mutability refers to an object’s ability to change its state or content after creation. For example, lists are\n",
        "mutable, while tuples are immutable.\n",
        "\n",
        "\n",
        "Q6. Why are lists mutable, but tuples are immutable?\n",
        "- Lists are designed to be flexible, so they allow modification of elements. Tuples, on the other hand, are\n",
        "designed as fixed collections, making them faster and safer in scenarios where data should not change.\n",
        "\n",
        "\n",
        "Q7. What is the difference between “==” and “is” operators in Python?\n",
        "- “==” checks if the values of two objects are equal, while “is” checks if two variables point to the same\n",
        "memory location (i.e., if they are the same object).\n",
        "\n",
        "\n",
        "Q8. What are logical operators in Python?\n",
        "- Logical operators are used to combine multiple conditions and include and, or, and not.\n",
        "\n",
        "\n",
        "Q9. What is type casting in Python?\n",
        "- Type casting is the conversion of one data type to another, such as converting an integer to a string or a\n",
        "float.\n",
        "\n",
        "\n",
        "Q10. What is the difference between implicit and explicit type casting?\n",
        "- Implicit casting is done automatically by Python, while explicit casting requires the use of functions like int(),\n",
        "float(), or str() to convert between types.\n",
        "\n",
        "Q11. What is the purpose of conditional statements in Python?\n",
        "- Conditional statements, such as if, elif, and else, allow Python to execute certain blocks of code based on\n",
        "whether a condition is True or False.\n",
        "\n",
        "\n",
        "Q12. How does the elif statement work?\n",
        "- The elif statement provides additional conditions after an initial if. It is only executed if the previous if or elif\n",
        "condition was False.\n",
        "\n",
        "\n",
        "Q13. What is the difference between for and while loops?\n",
        "- A for loop is typically used when you know the number of iterations in advance, while a while loop is used\n",
        "when the number of iterations depends on a condition.\n",
        "\n",
        "\n",
        "Q14. Describe a scenario where a while loop is more suitable than a for loop?\n",
        "- A while loop is ideal when you want to continue looping until a specific condition is met, like waiting for user\n",
        "input or monitoring a process until it completes."
      ],
      "metadata": {
        "id": "9aMqrSqTqaDe"
      }
    }
  ]
}